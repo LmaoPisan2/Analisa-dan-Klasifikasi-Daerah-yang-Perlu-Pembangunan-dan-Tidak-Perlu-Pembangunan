{
 "cells": [
  {
   "cell_type": "code",
   "execution_count": 3,
   "metadata": {},
   "outputs": [],
   "source": [
    "import pandas as pd\n",
    "import matplotlib.pyplot as plt\n",
    "import seaborn as sns\n",
    "from sklearn.model_selection import train_test_split\n",
    "from sklearn.metrics import classification_report, accuracy_score, log_loss, confusion_matrix\n",
    "from sklearn.neural_network import MLPClassifier\n",
    "from sklearn.preprocessing import StandardScaler\n",
    "from sklearn.svm import SVC"
   ]
  },
  {
   "cell_type": "code",
   "execution_count": 5,
   "metadata": {},
   "outputs": [],
   "source": [
    "data = pd.read_csv('IPM20222023label.csv')"
   ]
  },
  {
   "cell_type": "code",
   "execution_count": 6,
   "metadata": {},
   "outputs": [
    {
     "data": {
      "text/plain": [
       "kategori\n",
       "Perlu Pembangunan          3378\n",
       "Tidak Perlu Pembangunan     718\n",
       "Name: count, dtype: int64"
      ]
     },
     "execution_count": 6,
     "metadata": {},
     "output_type": "execute_result"
    }
   ],
   "source": [
    "data['kategori'].value_counts()"
   ]
  },
  {
   "cell_type": "code",
   "execution_count": 7,
   "metadata": {},
   "outputs": [],
   "source": [
    "features = ['HLS', 'PPM', 'AHHL', 'AHHP', 'IPM']\n",
    "target= 'kategori'\n"
   ]
  },
  {
   "cell_type": "code",
   "execution_count": 8,
   "metadata": {},
   "outputs": [],
   "source": [
    "data.replace('-', float('nan'), inplace=True)"
   ]
  },
  {
   "cell_type": "code",
   "execution_count": 9,
   "metadata": {},
   "outputs": [
    {
     "data": {
      "text/plain": [
       "Nama_Daerah    0\n",
       "HLS            0\n",
       "PPM            2\n",
       "IPM            0\n",
       "AHHL           0\n",
       "AHHP           0\n",
       "kategori       0\n",
       "dtype: int64"
      ]
     },
     "execution_count": 9,
     "metadata": {},
     "output_type": "execute_result"
    }
   ],
   "source": [
    "data.isna().sum()"
   ]
  },
  {
   "cell_type": "code",
   "execution_count": 10,
   "metadata": {},
   "outputs": [],
   "source": [
    "data.dropna(inplace=True)"
   ]
  },
  {
   "cell_type": "code",
   "execution_count": 11,
   "metadata": {},
   "outputs": [],
   "source": [
    "X = data[features]\n",
    "y = data[target]"
   ]
  },
  {
   "cell_type": "code",
   "execution_count": 12,
   "metadata": {},
   "outputs": [],
   "source": [
    "y_encoded = pd.factorize(y)[0]\n",
    "target_names = pd.factorize(y)[1]\n",
    "\n",
    "X_train, X_test, y_train, y_test = train_test_split(X, y_encoded, test_size=0.3, stratify=y_encoded)"
   ]
  },
  {
   "cell_type": "code",
   "execution_count": 13,
   "metadata": {},
   "outputs": [
    {
     "name": "stdout",
     "output_type": "stream",
     "text": [
      "Kategori dan Encode:\n",
      "Perlu Pembangunan: 0\n",
      "Tidak Perlu Pembangunan: 1\n"
     ]
    }
   ],
   "source": [
    "print(\"Kategori dan Encode:\")\n",
    "for i, category in enumerate(target_names):\n",
    "    print(f\"{category}: {i}\")"
   ]
  },
  {
   "cell_type": "code",
   "execution_count": 14,
   "metadata": {},
   "outputs": [],
   "source": [
    "scaler = StandardScaler()\n",
    "X_train_scaled = scaler.fit_transform(X_train)\n",
    "X_test_scaled = scaler.transform(X_test)"
   ]
  },
  {
   "cell_type": "code",
   "execution_count": 15,
   "metadata": {},
   "outputs": [],
   "source": [
    "def print_classification_report_with_loss(model_name, y_true, y_pred, model, X_test_scaled):\n",
    "    print(f\"{model_name} Classification Report:\")\n",
    "    \n",
    "    if hasattr(model, \"predict_proba\"):\n",
    "        y_pred_prob = model.predict_proba(X_test_scaled)\n",
    "        loss = log_loss(y_true, y_pred_prob)\n",
    "        print(f\"Log Loss: {loss:.4f}\")\n",
    "    else:\n",
    "        print(f\"Log Loss: Model does not support probability predictions\")\n",
    "    \n",
    "    accuracy = accuracy_score(y_true, y_pred)\n",
    "    report = classification_report(y_true, y_pred, target_names=target_names)\n",
    "    print(f\"Accuracy: {accuracy:.2f}\")\n",
    "    print(report)"
   ]
  },
  {
   "cell_type": "code",
   "execution_count": 16,
   "metadata": {},
   "outputs": [],
   "source": [
    "def generate_confusion_matrix(y_true, y_pred, model_name):\n",
    "    cm = confusion_matrix(y_true, y_pred)\n",
    "    cm_df = pd.DataFrame(cm, \n",
    "                         index=[f\"Actual {name}\" for name in target_names], \n",
    "                         columns=[f\"Predicted {name}\" for name in target_names])\n",
    "    \n",
    "    print(f\"\\nConfusion Matrix for {model_name}:\")\n",
    "    print(cm_df)\n",
    "\n",
    "    TN = cm[1, 1]\n",
    "    TP = cm[0, 0]\n",
    "    FN = cm[0, 1]\n",
    "    FP = cm[1, 0]\n",
    "    \n",
    "    print(f\"\\nMetrics for {model_name}:\")\n",
    "    print(f\"True Positive (TP): {TP}\")\n",
    "    print(f\"True Negative (TN): {TN}\")\n",
    "    print(f\"False Positive (FP): {FP}\")\n",
    "    print(f\"False Negative (FN): {FN}\")\n",
    "    \n",
    "    plt.figure(figsize=(8, 6))\n",
    "    sns.heatmap(cm_df, annot=True, fmt=\"d\", cmap=\"Blues\", cbar=False)\n",
    "    plt.title(f\"{model_name} Confusion Matrix\")\n",
    "    plt.ylabel(\"Actual\")\n",
    "    plt.xlabel(\"Predicted\")\n",
    "    plt.show()"
   ]
  },
  {
   "cell_type": "code",
   "execution_count": 17,
   "metadata": {},
   "outputs": [],
   "source": [
    "ann_model = MLPClassifier(random_state=0, max_iter=1000)\n",
    "svm_model = SVC(random_state=0, probability=True) "
   ]
  },
  {
   "cell_type": "code",
   "execution_count": 19,
   "metadata": {},
   "outputs": [],
   "source": [
    "models = {\n",
    "    \"ANN\": ann_model,\n",
    "    \"SVM\": svm_model\n",
    "}"
   ]
  },
  {
   "cell_type": "code",
   "execution_count": 20,
   "metadata": {},
   "outputs": [
    {
     "name": "stdout",
     "output_type": "stream",
     "text": [
      "Training ANN...\n",
      "ANN Classification Report:\n",
      "Log Loss: 0.0432\n",
      "Accuracy: 0.99\n",
      "                         precision    recall  f1-score   support\n",
      "\n",
      "      Perlu Pembangunan       1.00      0.99      0.99      1014\n",
      "Tidak Perlu Pembangunan       0.95      0.98      0.97       215\n",
      "\n",
      "               accuracy                           0.99      1229\n",
      "              macro avg       0.97      0.99      0.98      1229\n",
      "           weighted avg       0.99      0.99      0.99      1229\n",
      "\n",
      "\n",
      "Confusion Matrix for ANN:\n",
      "                                Predicted Perlu Pembangunan  \\\n",
      "Actual Perlu Pembangunan                               1003   \n",
      "Actual Tidak Perlu Pembangunan                            4   \n",
      "\n",
      "                                Predicted Tidak Perlu Pembangunan  \n",
      "Actual Perlu Pembangunan                                       11  \n",
      "Actual Tidak Perlu Pembangunan                                211  \n",
      "\n",
      "Metrics for ANN:\n",
      "True Positive (TP): 1003\n",
      "True Negative (TN): 211\n",
      "False Positive (FP): 4\n",
      "False Negative (FN): 11\n"
     ]
    },
    {
     "data": {
      "image/png": "[encoded data removed]",
      "text/plain": [
       "<Figure size 800x600 with 1 Axes>"
      ]
     },
     "metadata": {},
     "output_type": "display_data"
    },
    {
     "name": "stdout",
     "output_type": "stream",
     "text": [
      "Training SVM...\n",
      "SVM Classification Report:\n",
      "Log Loss: 0.0609\n",
      "Accuracy: 0.97\n",
      "                         precision    recall  f1-score   support\n",
      "\n",
      "      Perlu Pembangunan       0.98      0.98      0.98      1014\n",
      "Tidak Perlu Pembangunan       0.93      0.92      0.92       215\n",
      "\n",
      "               accuracy                           0.97      1229\n",
      "              macro avg       0.95      0.95      0.95      1229\n",
      "           weighted avg       0.97      0.97      0.97      1229\n",
      "\n",
      "\n",
      "Confusion Matrix for SVM:\n",
      "                                Predicted Perlu Pembangunan  \\\n",
      "Actual Perlu Pembangunan                                998   \n",
      "Actual Tidak Perlu Pembangunan                           17   \n",
      "\n",
      "                                Predicted Tidak Perlu Pembangunan  \n",
      "Actual Perlu Pembangunan                                       16  \n",
      "Actual Tidak Perlu Pembangunan                                198  \n",
      "\n",
      "Metrics for SVM:\n",
      "True Positive (TP): 998\n",
      "True Negative (TN): 198\n",
      "False Positive (FP): 17\n",
      "False Negative (FN): 16\n"
     ]
    },
    {
     "data": {
      "image/png": "[encoded data removed]",
      "text/plain": [
       "<Figure size 800x600 with 1 Axes>"
      ]
     },
     "metadata": {},
     "output_type": "display_data"
    }
   ],
   "source": [
    "for model_name, model in models.items():\n",
    "    print(f\"Training {model_name}...\")\n",
    "    \n",
    "    model.fit(X_train_scaled, y_train)\n",
    "    y_pred = model.predict(X_test_scaled)\n",
    "    \n",
    "    print_classification_report_with_loss(model_name, y_test, y_pred, model, X_test_scaled)\n",
    "    generate_confusion_matrix(y_test, y_pred, model_name)"
   ]
  },
  {
   "cell_type": "code",
   "execution_count": 21,
   "metadata": {},
   "outputs": [],
   "source": [
    "new_data = pd.read_csv('IPM2024.csv')\n",
    "\n",
    "new_data.replace('-', float('nan'), inplace=True)\n",
    "new_data.dropna(inplace=True)"
   ]
  },
  {
   "cell_type": "code",
   "execution_count": 22,
   "metadata": {},
   "outputs": [
    {
     "data": {
      "text/html": [
       "<div>\n",
       "<style scoped>\n",
       "    .dataframe tbody tr th:only-of-type {\n",
       "        vertical-align: middle;\n",
       "    }\n",
       "\n",
       "    .dataframe tbody tr th {\n",
       "        vertical-align: top;\n",
       "    }\n",
       "\n",
       "    .dataframe thead th {\n",
       "        text-align: right;\n",
       "    }\n",
       "</style>\n",
       "<table border=\"1\" class=\"dataframe\">\n",
       "  <thead>\n",
       "    <tr style=\"text-align: right;\">\n",
       "      <th></th>\n",
       "      <th>nama_daerah</th>\n",
       "      <th>AHHL</th>\n",
       "      <th>AHHP</th>\n",
       "      <th>HLS</th>\n",
       "      <th>IPM</th>\n",
       "      <th>PPM</th>\n",
       "    </tr>\n",
       "  </thead>\n",
       "  <tbody>\n",
       "    <tr>\n",
       "      <th>0</th>\n",
       "      <td>ACEH</td>\n",
       "      <td>68.07</td>\n",
       "      <td>71.94</td>\n",
       "      <td>14.39</td>\n",
       "      <td>74.03</td>\n",
       "      <td>14.23</td>\n",
       "    </tr>\n",
       "    <tr>\n",
       "      <th>1</th>\n",
       "      <td>Aceh Barat</td>\n",
       "      <td>65.96</td>\n",
       "      <td>69.93</td>\n",
       "      <td>14.93</td>\n",
       "      <td>73.69</td>\n",
       "      <td>17.60</td>\n",
       "    </tr>\n",
       "    <tr>\n",
       "      <th>2</th>\n",
       "      <td>Aceh Barat Daya</td>\n",
       "      <td>63.10</td>\n",
       "      <td>66.93</td>\n",
       "      <td>13.69</td>\n",
       "      <td>68.75</td>\n",
       "      <td>15.32</td>\n",
       "    </tr>\n",
       "    <tr>\n",
       "      <th>3</th>\n",
       "      <td>Aceh Besar</td>\n",
       "      <td>67.80</td>\n",
       "      <td>71.69</td>\n",
       "      <td>14.77</td>\n",
       "      <td>75.13</td>\n",
       "      <td>13.21</td>\n",
       "    </tr>\n",
       "    <tr>\n",
       "      <th>4</th>\n",
       "      <td>Aceh Jaya</td>\n",
       "      <td>65.19</td>\n",
       "      <td>69.09</td>\n",
       "      <td>14.06</td>\n",
       "      <td>71.83</td>\n",
       "      <td>12.25</td>\n",
       "    </tr>\n",
       "    <tr>\n",
       "      <th>...</th>\n",
       "      <td>...</td>\n",
       "      <td>...</td>\n",
       "      <td>...</td>\n",
       "      <td>...</td>\n",
       "      <td>...</td>\n",
       "      <td>...</td>\n",
       "    </tr>\n",
       "    <tr>\n",
       "      <th>533</th>\n",
       "      <td>Way Kanan</td>\n",
       "      <td>67.41</td>\n",
       "      <td>71.38</td>\n",
       "      <td>12.44</td>\n",
       "      <td>69.31</td>\n",
       "      <td>10.43</td>\n",
       "    </tr>\n",
       "    <tr>\n",
       "      <th>534</th>\n",
       "      <td>Wonogiri</td>\n",
       "      <td>74.44</td>\n",
       "      <td>78.13</td>\n",
       "      <td>12.61</td>\n",
       "      <td>72.55</td>\n",
       "      <td>10.71</td>\n",
       "    </tr>\n",
       "    <tr>\n",
       "      <th>535</th>\n",
       "      <td>Wonosobo</td>\n",
       "      <td>70.01</td>\n",
       "      <td>73.84</td>\n",
       "      <td>11.81</td>\n",
       "      <td>69.82</td>\n",
       "      <td>15.28</td>\n",
       "    </tr>\n",
       "    <tr>\n",
       "      <th>536</th>\n",
       "      <td>Yahukimo</td>\n",
       "      <td>64.15</td>\n",
       "      <td>67.94</td>\n",
       "      <td>8.05</td>\n",
       "      <td>51.98</td>\n",
       "      <td>33.82</td>\n",
       "    </tr>\n",
       "    <tr>\n",
       "      <th>537</th>\n",
       "      <td>Yalimo</td>\n",
       "      <td>63.40</td>\n",
       "      <td>67.37</td>\n",
       "      <td>9.80</td>\n",
       "      <td>51.85</td>\n",
       "      <td>30.02</td>\n",
       "    </tr>\n",
       "  </tbody>\n",
       "</table>\n",
       "<p>538 rows × 6 columns</p>\n",
       "</div>"
      ],
      "text/plain": [
       "         nama_daerah   AHHL   AHHP    HLS    IPM    PPM\n",
       "0               ACEH  68.07  71.94  14.39  74.03  14.23\n",
       "1         Aceh Barat  65.96  69.93  14.93  73.69  17.60\n",
       "2    Aceh Barat Daya  63.10  66.93  13.69  68.75  15.32\n",
       "3         Aceh Besar  67.80  71.69  14.77  75.13  13.21\n",
       "4          Aceh Jaya  65.19  69.09  14.06  71.83  12.25\n",
       "..               ...    ...    ...    ...    ...    ...\n",
       "533        Way Kanan  67.41  71.38  12.44  69.31  10.43\n",
       "534         Wonogiri  74.44  78.13  12.61  72.55  10.71\n",
       "535         Wonosobo  70.01  73.84  11.81  69.82  15.28\n",
       "536         Yahukimo  64.15  67.94   8.05  51.98  33.82\n",
       "537           Yalimo  63.40  67.37   9.80  51.85  30.02\n",
       "\n",
       "[538 rows x 6 columns]"
      ]
     },
     "execution_count": 22,
     "metadata": {},
     "output_type": "execute_result"
    }
   ],
   "source": [
    "new_data"
   ]
  },
  {
   "cell_type": "code",
   "execution_count": 23,
   "metadata": {},
   "outputs": [],
   "source": [
    "X_new = new_data[features]\n",
    "\n",
    "X_new_scaled = scaler.transform(X_new)"
   ]
  },
  {
   "cell_type": "code",
   "execution_count": 24,
   "metadata": {},
   "outputs": [],
   "source": [
    "ann_predictions = ann_model.predict(X_new_scaled)\n",
    "ann_predicted_labels = target_names[ann_predictions]\n",
    "new_data_ann = new_data.copy()\n",
    "new_data_ann['Predicted_ANN'] = ann_predicted_labels\n",
    "\n",
    "new_data_ann.to_csv('IPM2024_with_ann.csv', index=False)"
   ]
  },
  {
   "cell_type": "code",
   "execution_count": 25,
   "metadata": {},
   "outputs": [],
   "source": [
    "data_2024 = pd.read_csv('IPM2024_with_ann.csv')"
   ]
  },
  {
   "cell_type": "code",
   "execution_count": 26,
   "metadata": {},
   "outputs": [
    {
     "data": {
      "text/plain": [
       "Predicted_ANN\n",
       "Tidak Perlu Pembangunan    341\n",
       "Perlu Pembangunan          197\n",
       "Name: count, dtype: int64"
      ]
     },
     "execution_count": 26,
     "metadata": {},
     "output_type": "execute_result"
    }
   ],
   "source": [
    "data_2024['Predicted_ANN'].value_counts()"
   ]
  },
  {
   "cell_type": "code",
   "execution_count": 27,
   "metadata": {},
   "outputs": [
    {
     "name": "stdout",
     "output_type": "stream",
     "text": [
      "Daerah yang perlu pembangunan:\n",
      "Aceh Barat Daya\n",
      "Aceh Selatan\n",
      "Alor\n",
      "Asmat\n",
      "Bandung Barat\n",
      "Banggai Kepulauan\n",
      "Banggai Laut\n",
      "Bangka Selatan\n",
      "Bangkalan\n",
      "Banjarnegara\n",
      "Banyu Asin\n",
      "Barito Kuala\n",
      "Belu\n",
      "Biak Numfor\n",
      "Bima\n",
      "Boalemo\n",
      "Bolaang Mongondow Selatan\n",
      "Bolaang Mongondow Timur\n",
      "Bolaang Mongondow Utara\n",
      "Bombana\n",
      "Bondowoso\n",
      "Bone\n",
      "Boven Digoel\n",
      "Brebes\n",
      "Buru\n",
      "Buru Selatan\n",
      "Buton\n",
      "Buton Selatan\n",
      "Buton Tengah\n",
      "Cianjur\n",
      "Deiyai\n",
      "Dogiyai\n",
      "Donggala\n",
      "Empat Lawang\n",
      "Ende\n",
      "Flores Timur\n",
      "Garut\n",
      "Gayo Lues\n",
      "Gorontalo\n",
      "Gorontalo Utara\n",
      "Halmahera Barat\n",
      "Halmahera Selatan\n",
      "Halmahera Tengah\n",
      "Halmahera Timur\n",
      "Hulu Sungai Selatan\n",
      "Hulu Sungai Tengah\n",
      "Hulu Sungai Utara\n",
      "Indragiri Hilir\n",
      "Indramayu\n",
      "Intan Jaya\n",
      "Jayawijaya\n",
      "Jember\n",
      "Jeneponto\n",
      "Kaimana\n",
      "Kapuas Hulu\n",
      "Katingan\n",
      "Kaur\n",
      "Kayong Utara\n",
      "Keerom\n",
      "Kepulauan Aru\n",
      "Kepulauan Mentawai\n",
      "Kepulauan Meranti\n",
      "Kepulauan Sula\n",
      "Kepulauan Yapen\n",
      "Ketapang\n",
      "Konawe Kepulauan\n",
      "Kota Cilegon\n",
      "Kota Pagar Alam\n",
      "Kota Subulussalam\n",
      "Kota Tanjung Balai\n",
      "Kota Tual\n",
      "Kupang\n",
      "Lahat\n",
      "Lampung Barat\n",
      "Lampung Utara\n",
      "Landak\n",
      "Lanny Jaya\n",
      "Lebak\n",
      "Lebong\n",
      "Lembata\n",
      "Lingga\n",
      "Lombok Tengah\n",
      "Lombok Timur\n",
      "Lombok Utara\n",
      "Lumajang\n",
      "MALUKU\n",
      "Majalengka\n",
      "Majene\n",
      "Malaka\n",
      "Maluku Barat Daya\n",
      "Maluku Tengah\n",
      "Maluku Tenggara\n",
      "Mamasa\n",
      "Mamberamo Raya\n",
      "Mamberamo Tengah\n",
      "Mamuju Tengah\n",
      "Mandailing Natal\n",
      "Manggarai\n",
      "Manggarai Barat\n",
      "Manggarai Timur\n",
      "Manokwari Selatan\n",
      "Mappi\n",
      "Maybrat\n",
      "Melawi\n",
      "Mesuji\n",
      "Mukomuko\n",
      "Muna Barat\n",
      "Murung Raya\n",
      "Musi Rawas\n",
      "Musi Rawas Utara\n",
      "NUSA TENGGARA BARAT\n",
      "NUSA TENGGARA TIMUR\n",
      "Nabire\n",
      "Nagekeo\n",
      "Natuna\n",
      "Nduga\n",
      "Ngada\n",
      "Nias\n",
      "Nias Barat\n",
      "Nias Selatan\n",
      "Nias Utara\n",
      "Nunukan\n",
      "Ogan Ilir\n",
      "Ogan Komering Ilir\n",
      "Ogan Komering Ulu Selatan\n",
      "PAPUA\n",
      "PAPUA BARAT\n",
      "Pakpak Bharat\n",
      "Pamekasan\n",
      "Pandeglang\n",
      "Pangandaran\n",
      "Paniai\n",
      "Parigi Moutong\n",
      "Pasaman\n",
      "Pegunungan Arfak\n",
      "Pegunungan Bintang\n",
      "Pemalang\n",
      "Penukal Abab Lematang Ilir\n",
      "Pesawaran\n",
      "Pesisir Barat\n",
      "Pohuwato\n",
      "Polewali Mandar\n",
      "Probolinggo\n",
      "Pulang Pisau\n",
      "Pulau Morotai\n",
      "Pulau Taliabu\n",
      "Puncak\n",
      "Puncak Jaya\n",
      "Raja Ampat\n",
      "Rote Ndao\n",
      "SULAWESI BARAT\n",
      "Sabu Raijua\n",
      "Sambas\n",
      "Sampang\n",
      "Sanggau\n",
      "Sarmi\n",
      "Sekadau\n",
      "Seluma\n",
      "Seram Bagian Barat\n",
      "Seram Bagian Timur\n",
      "Serang\n",
      "Seruyan\n",
      "Sijunjung\n",
      "Sikka\n",
      "Simeulue\n",
      "Sinjai\n",
      "Sintang\n",
      "Sorong\n",
      "Sorong Selatan\n",
      "Sukabumi\n",
      "Sukamara\n",
      "Sumba Barat\n",
      "Sumba Barat Daya\n",
      "Sumba Tengah\n",
      "Sumba Timur\n",
      "Sumenep\n",
      "Supiori\n",
      "Takalar\n",
      "Tambrauw\n",
      "Tanggamus\n",
      "Tanjung Jabung Barat\n",
      "Tanjung Jabung Timur\n",
      "Tapanuli Selatan\n",
      "Tasikmalaya\n",
      "Teluk Bintuni\n",
      "Teluk Wondama\n",
      "Timor Tengah Selatan\n",
      "Timor Tengah Utara\n",
      "Tojo Una-Una\n",
      "Toli-Toli\n",
      "Tolikara\n",
      "Tulang Bawang Barat\n",
      "Waropen\n",
      "Way Kanan\n",
      "Wonosobo\n",
      "Yahukimo\n",
      "Yalimo\n"
     ]
    }
   ],
   "source": [
    "perlu_pembangunan = data_2024[data_2024[\"Predicted_ANN\"] == \"Perlu Pembangunan\"]\n",
    "\n",
    "print(\"Daerah yang perlu pembangunan:\")\n",
    "for daerah in perlu_pembangunan[\"nama_daerah\"]:\n",
    "    print(daerah)"
   ]
  },
  {
   "cell_type": "code",
   "execution_count": 28,
   "metadata": {},
   "outputs": [
    {
     "data": {
      "image/png": "[encoded data removed]",
      "text/plain": [
       "<Figure size 640x480 with 1 Axes>"
      ]
     },
     "metadata": {},
     "output_type": "display_data"
    }
   ],
   "source": [
    "kategori_counts = data_2024[\"Predicted_ANN\"].value_counts()\n",
    "\n",
    "kategori_counts.plot(kind=\"bar\", color=[\"orange\", \"green\"], alpha=0.7)\n",
    "plt.title(\"Distribusi Daerah Berdasarkan Kategori\")\n",
    "plt.ylabel(\"Jumlah Daerah\")\n",
    "plt.xlabel(\"Kategori\")\n",
    "plt.xticks(rotation=0)\n",
    "plt.show()\n"
   ]
  },
  {
   "cell_type": "code",
   "execution_count": 29,
   "metadata": {},
   "outputs": [
    {
     "data": {
      "image/png": "[encoded data removed]",
      "text/plain": [
       "<Figure size 640x480 with 1 Axes>"
      ]
     },
     "metadata": {},
     "output_type": "display_data"
    }
   ],
   "source": [
    "kategori_counts.plot(kind=\"pie\", autopct=\"%1.1f%%\", colors=[\"orange\", \"green\"], startangle=90)\n",
    "plt.title(\"Proporsi Daerah yang Perlu Pembangunan\")\n",
    "plt.ylabel(\"\")\n",
    "plt.show()\n"
   ]
  },
  {
   "cell_type": "markdown",
   "metadata": {},
   "source": [
    "Kalau dari SVC"
   ]
  },
  {
   "cell_type": "code",
   "execution_count": 30,
   "metadata": {},
   "outputs": [],
   "source": [
    "svc_predictions = svm_model.predict(X_new_scaled)\n",
    "svc_predicted_labels = target_names[svc_predictions]\n",
    "\n",
    "new_data_svc = new_data.copy()\n",
    "new_data_svc['Predicted_SVC'] = svc_predicted_labels\n",
    "\n",
    "new_data_svc.to_csv('IPM2024_with_svc.csv', index=False)"
   ]
  },
  {
   "cell_type": "code",
   "execution_count": 33,
   "metadata": {},
   "outputs": [],
   "source": [
    "data_2024_svc = pd.read_csv('IPM2024_with_SVC.csv')"
   ]
  },
  {
   "cell_type": "code",
   "execution_count": 34,
   "metadata": {},
   "outputs": [
    {
     "data": {
      "text/plain": [
       "Predicted_SVC\n",
       "Tidak Perlu Pembangunan    327\n",
       "Perlu Pembangunan          211\n",
       "Name: count, dtype: int64"
      ]
     },
     "execution_count": 34,
     "metadata": {},
     "output_type": "execute_result"
    }
   ],
   "source": [
    "data_2024_svc['Predicted_SVC'].value_counts()"
   ]
  },
  {
   "cell_type": "code",
   "execution_count": 37,
   "metadata": {},
   "outputs": [
    {
     "name": "stdout",
     "output_type": "stream",
     "text": [
      "Daerah yang perlu pembangunan:\n",
      "Aceh Barat Daya\n",
      "Aceh Selatan\n",
      "Aceh Singkil\n",
      "Aceh Timur\n",
      "Alor\n",
      "Asmat\n",
      "Banggai Kepulauan\n",
      "Banggai Laut\n",
      "Bangka Selatan\n",
      "Bangkalan\n",
      "Banjar\n",
      "Banjarnegara\n",
      "Banyu Asin\n",
      "Barito Kuala\n",
      "Batu Bara\n",
      "Belu\n",
      "Bengkulu Selatan\n",
      "Bengkulu Tengah\n",
      "Bengkulu Utara\n",
      "Biak Numfor\n",
      "Bima\n",
      "Boalemo\n",
      "Bolaang Mongondow\n",
      "Bolaang Mongondow Selatan\n",
      "Bolaang Mongondow Timur\n",
      "Bolaang Mongondow Utara\n",
      "Bombana\n",
      "Bondowoso\n",
      "Bone\n",
      "Boven Digoel\n",
      "Brebes\n",
      "Buol\n",
      "Buru\n",
      "Buru Selatan\n",
      "Buton\n",
      "Buton Selatan\n",
      "Buton Tengah\n",
      "Cianjur\n",
      "Deiyai\n",
      "Dogiyai\n",
      "Dompu\n",
      "Donggala\n",
      "Empat Lawang\n",
      "Ende\n",
      "Fakfak\n",
      "Flores Timur\n",
      "GORONTALO\n",
      "Garut\n",
      "Gayo Lues\n",
      "Gorontalo\n",
      "Gorontalo Utara\n",
      "Halmahera Barat\n",
      "Halmahera Selatan\n",
      "Halmahera Tengah\n",
      "Halmahera Timur\n",
      "Hulu Sungai Selatan\n",
      "Hulu Sungai Tengah\n",
      "Hulu Sungai Utara\n",
      "Indragiri Hilir\n",
      "Intan Jaya\n",
      "Jayawijaya\n",
      "Jeneponto\n",
      "Kaimana\n",
      "Katingan\n",
      "Kaur\n",
      "Kayong Utara\n",
      "Keerom\n",
      "Kepahiang\n",
      "Kepulauan Anambas\n",
      "Kepulauan Aru\n",
      "Kepulauan Mentawai\n",
      "Kepulauan Meranti\n",
      "Kepulauan Selayar\n",
      "Kepulauan Sula\n",
      "Kepulauan Yapen\n",
      "Ketapang\n",
      "Konawe Kepulauan\n",
      "Kota Pagar Alam\n",
      "Kota Subulussalam\n",
      "Kota Tanjung Balai\n",
      "Kota Tual\n",
      "Kupang\n",
      "Lahat\n",
      "Lampung Barat\n",
      "Lampung Selatan\n",
      "Lampung Utara\n",
      "Lanny Jaya\n",
      "Lebak\n",
      "Lebong\n",
      "Lembata\n",
      "Lingga\n",
      "Lombok Barat\n",
      "Lombok Tengah\n",
      "Lombok Timur\n",
      "Lombok Utara\n",
      "Lumajang\n",
      "MALUKU\n",
      "Majalengka\n",
      "Majene\n",
      "Malaka\n",
      "Maluku Barat Daya\n",
      "Maluku Tengah\n",
      "Maluku Tenggara\n",
      "Mamasa\n",
      "Mamberamo Raya\n",
      "Mamberamo Tengah\n",
      "Mamuju\n",
      "Mamuju Tengah\n",
      "Mandailing Natal\n",
      "Manggarai\n",
      "Manggarai Barat\n",
      "Manggarai Timur\n",
      "Manokwari Selatan\n",
      "Mappi\n",
      "Maybrat\n",
      "Melawi\n",
      "Mesuji\n",
      "Morowali Utara\n",
      "Muara Enim\n",
      "Mukomuko\n",
      "Muna Barat\n",
      "Murung Raya\n",
      "Musi Banyuasin\n",
      "Musi Rawas\n",
      "Musi Rawas Utara\n",
      "NUSA TENGGARA BARAT\n",
      "NUSA TENGGARA TIMUR\n",
      "Nabire\n",
      "Nagekeo\n",
      "Natuna\n",
      "Nduga\n",
      "Ngada\n",
      "Nias\n",
      "Nias Barat\n",
      "Nias Selatan\n",
      "Nias Utara\n",
      "Ogan Ilir\n",
      "Ogan Komering Ilir\n",
      "Ogan Komering Ulu Selatan\n",
      "PAPUA\n",
      "PAPUA BARAT\n",
      "Pakpak Bharat\n",
      "Pamekasan\n",
      "Pandeglang\n",
      "Paniai\n",
      "Parigi Moutong\n",
      "Pasaman\n",
      "Pegunungan Arfak\n",
      "Pegunungan Bintang\n",
      "Pemalang\n",
      "Penukal Abab Lematang Ilir\n",
      "Pesawaran\n",
      "Pesisir Barat\n",
      "Pidie\n",
      "Pohuwato\n",
      "Polewali Mandar\n",
      "Probolinggo\n",
      "Pulang Pisau\n",
      "Pulau Morotai\n",
      "Pulau Taliabu\n",
      "Puncak\n",
      "Puncak Jaya\n",
      "Raja Ampat\n",
      "Rote Ndao\n",
      "SULAWESI BARAT\n",
      "Sabu Raijua\n",
      "Sambas\n",
      "Sampang\n",
      "Sanggau\n",
      "Sarmi\n",
      "Sekadau\n",
      "Seluma\n",
      "Seram Bagian Barat\n",
      "Seram Bagian Timur\n",
      "Serang\n",
      "Seruyan\n",
      "Sijunjung\n",
      "Sikka\n",
      "Simeulue\n",
      "Sinjai\n",
      "Situbondo\n",
      "Sorong\n",
      "Sorong Selatan\n",
      "Sumba Barat\n",
      "Sumba Barat Daya\n",
      "Sumba Tengah\n",
      "Sumba Timur\n",
      "Sumbawa\n",
      "Sumenep\n",
      "Supiori\n",
      "Takalar\n",
      "Tambrauw\n",
      "Tanggamus\n",
      "Tanjung Jabung Barat\n",
      "Tanjung Jabung Timur\n",
      "Tapanuli Selatan\n",
      "Tapanuli Tengah\n",
      "Tasikmalaya\n",
      "Teluk Bintuni\n",
      "Teluk Wondama\n",
      "Timor Tengah Selatan\n",
      "Timor Tengah Utara\n",
      "Tojo Una-Una\n",
      "Toli-Toli\n",
      "Tolikara\n",
      "Tulang Bawang Barat\n",
      "Waropen\n",
      "Way Kanan\n",
      "Wonosobo\n",
      "Yahukimo\n",
      "Yalimo\n"
     ]
    }
   ],
   "source": [
    "perlu_pembangunan_svc = data_2024_svc[data_2024_svc[\"Predicted_SVC\"] == \"Perlu Pembangunan\"]\n",
    "\n",
    "print(\"Daerah yang perlu pembangunan:\")\n",
    "for daerah in perlu_pembangunan_svc[\"nama_daerah\"]:\n",
    "    print(daerah)"
   ]
  },
  {
   "cell_type": "code",
   "execution_count": 38,
   "metadata": {},
   "outputs": [
    {
     "data": {
      "image/png": "[encoded data removed]",
      "text/plain": [
       "<Figure size 640x480 with 1 Axes>"
      ]
     },
     "metadata": {},
     "output_type": "display_data"
    }
   ],
   "source": [
    "kategori_counts_svc = data_2024_svc[\"Predicted_SVC\"].value_counts()\n",
    "\n",
    "kategori_counts_svc.plot(kind=\"bar\", color=[\"orange\", \"green\"], alpha=0.7)\n",
    "plt.title(\"Distribusi Daerah Berdasarkan Kategori\")\n",
    "plt.ylabel(\"Jumlah Daerah\")\n",
    "plt.xlabel(\"Kategori\")\n",
    "plt.xticks(rotation=0)\n",
    "plt.show()"
   ]
  },
  {
   "cell_type": "code",
   "execution_count": 39,
   "metadata": {},
   "outputs": [
    {
     "data": {
      "image/png": "[encoded data removed]",
      "text/plain": [
       "<Figure size 640x480 with 1 Axes>"
      ]
     },
     "metadata": {},
     "output_type": "display_data"
    }
   ],
   "source": [
    "kategori_counts_svc.plot(kind=\"pie\", autopct=\"%1.1f%%\", colors=[\"orange\", \"green\"], startangle=90)\n",
    "plt.title(\"Proporsi Daerah yang Perlu Pembangunan\")\n",
    "plt.ylabel(\"\")\n",
    "plt.show()"
   ]
  }
 ],
 "metadata": {
  "kernelspec": {
   "display_name": "Python 3",
   "language": "python",
   "name": "python3"
  },
  "language_info": {
   "codemirror_mode": {
    "name": "ipython",
    "version": 3
   },
   "file_extension": ".py",
   "mimetype": "text/x-python",
   "name": "python",
   "nbconvert_exporter": "python",
   "pygments_lexer": "ipython3",
   "version": "3.11.9"
  }
 },
 "nbformat": 4,
 "nbformat_minor": 2
}
